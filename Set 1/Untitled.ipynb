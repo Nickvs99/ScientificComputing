{
 "cells": [
  {
   "cell_type": "code",
   "execution_count": 1,
   "id": "5d0cadb8",
   "metadata": {},
   "outputs": [
    {
     "data": {
      "image/png": "[encoded data removed]",
      "text/plain": [
       "<Figure size 432x288 with 1 Axes>"
      ]
     },
     "metadata": {
      "needs_background": "light"
     },
     "output_type": "display_data"
    }
   ],
   "source": [
    "import numpy as np\n",
    "import matplotlib.pyplot as plt\n",
    "from matplotlib import animation\n",
    "\n",
    "def create_animated_plot(xs, niter, xlim =(-1.5, 1.5), ylim = [-3, 3]):\n",
    "\n",
    "    line_coords = np.vstack((  np.array([-1,1]), np.array([0,0]) ))\n",
    "    \n",
    "    boxData = [np.array([np.zeros(niter), xs])]\n",
    "\n",
    "    fig, ax1 = plt.subplots(1,1)\n",
    "    line, = ax1.plot([], [], lw=2)\n",
    "    ax1.set_ylabel('position')\n",
    "    ax1.set_ylim(ylim)\n",
    "    ax1.set_xlim(xlim)\n",
    "\n",
    "    lines = [ax1.plot([],[],lw=2,color=\"black\")[0]]\n",
    "\n",
    "    def init():\n",
    "        lines[0].set_data([],[])\n",
    "        return lines\n",
    "\n",
    "    def animate(i):\n",
    "        xs = [boxData[0][0, i]]\n",
    "        ys = [boxData[0][1, i]]\n",
    "\n",
    "        lines[0].set_data(line_coords[0,:]+xs[0], line_coords[1,:]+ys[0]) \n",
    "        return lines\n",
    "\n",
    "    anim = animation.FuncAnimation(fig, animate, init_func=init,\n",
    "                                frames=niter, interval=10, blit=True)\n",
    "    return anim\n",
    "\n",
    "niter = 1001\n",
    "t = np.linspace(0,10,niter)\n",
    "\n",
    "anim = create_animated_plot(xs =np.sin(t), niter=niter)\n",
    "plt.show()"
   ]
  },
  {
   "cell_type": "code",
   "execution_count": null,
   "id": "99f49733",
   "metadata": {},
   "outputs": [],
   "source": []
  }
 ],
 "metadata": {
  "kernelspec": {
   "display_name": "Python 3 (ipykernel)",
   "language": "python",
   "name": "python3"
  },
  "language_info": {
   "codemirror_mode": {
    "name": "ipython",
    "version": 3
   },
   "file_extension": ".py",
   "mimetype": "text/x-python",
   "name": "python",
   "nbconvert_exporter": "python",
   "pygments_lexer": "ipython3",
   "version": "3.9.7"
  }
 },
 "nbformat": 4,
 "nbformat_minor": 5
}
